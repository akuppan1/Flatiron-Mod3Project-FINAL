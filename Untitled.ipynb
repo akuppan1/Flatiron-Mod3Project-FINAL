{
 "cells": [
  {
   "cell_type": "code",
   "execution_count": null,
   "metadata": {},
   "outputs": [],
   "source": [
    "import pandas as pd\n",
    "import matplotlib.pyplot as plt\n",
    "import scipy.stats\n",
    "import numpy as np\n",
    "import re\n",
    "from sklearn.preprocessing import StandardScaler\n",
    "scalar = StandardScaler()\n",
    "%matplotlib inline"
   ]
  },
  {
   "cell_type": "code",
   "execution_count": null,
   "metadata": {},
   "outputs": [],
   "source": [
    "df_churndata = pd.read_csv('WA_Fn-UseC_-Telco-Customer-Churn.csv')"
   ]
  },
  {
   "cell_type": "code",
   "execution_count": null,
   "metadata": {},
   "outputs": [],
   "source": [
    "df_churndata['Churn'] = df_churndata['Churn'].map({'Yes': 1, 'No':0})\n",
    "df_churndata['gender'] = df_churndata['gender'].map({'Female': 0, 'Male':1})\n",
    "df_churndata['Partner'] = df_churndata['Partner'].map({'Yes': 1, 'No':0})\n",
    "df_churndata['Dependents'] = df_churndata['Dependents'].map({'Yes': 1, 'No':0})\n",
    "df_churndata['PhoneService'] = df_churndata['PhoneService'].map({'Yes': 1, 'No':0})\n",
    "df_churndata['PaperlessBilling'] = df_churndata['PaperlessBilling'].map({'Yes': 1, 'No':0})\n",
    "\n",
    "\n",
    "df_churndata['MultipleLines']    = df_churndata['MultipleLines'].replace(['No phone service'], 'No')\n",
    "df_churndata['InternetService']  = df_churndata['InternetService'].replace(['No phone service'], 'No')\n",
    "df_churndata['InternetService']  = df_churndata['InternetService'].replace(['DSL'], 'Yes')\n",
    "df_churndata['InternetService']  = df_churndata['InternetService'].replace(['Fiber optic'], 'Yes')\n",
    "df_churndata['OnlineSecurity']   = df_churndata['OnlineSecurity'].replace(['No phone service', 'No internet service'], 'No')\n",
    "df_churndata['OnlineBackup']     = df_churndata['OnlineBackup'].replace(['No phone service', 'No internet service'], 'No')\n",
    "df_churndata['DeviceProtection'] = df_churndata['DeviceProtection'].replace(['No phone service', 'No internet service'], 'No')\n",
    "df_churndata['TechSupport']      = df_churndata['TechSupport'].replace(['No phone service', 'No internet service'], 'No')\n",
    "df_churndata['StreamingTV']      = df_churndata['StreamingTV'].replace(['No phone service', 'No internet service'], 'No')\n",
    "df_churndata['StreamingMovies']  = df_churndata['StreamingMovies'].replace(['No phone service', 'No internet service'], 'No')\n",
    "\n",
    "\n",
    "df_churndata['MultipleLines']    = df_churndata['MultipleLines'].map({'Yes': 1, 'No':0})\n",
    "df_churndata['InternetService']  = df_churndata['InternetService'].map({'Yes': 1, 'No':0})\n",
    "df_churndata['OnlineSecurity']   = df_churndata['OnlineSecurity'].map({'Yes': 1, 'No':0})\n",
    "df_churndata['OnlineBackup']     = df_churndata['OnlineBackup'].map({'Yes': 1, 'No':0})\n",
    "df_churndata['DeviceProtection'] = df_churndata['DeviceProtection'].map({'Yes': 1, 'No':0})\n",
    "df_churndata['TechSupport']      = df_churndata['TechSupport'].map({'Yes': 1, 'No':0})\n",
    "df_churndata['StreamingTV']      = df_churndata['StreamingTV'].map({'Yes': 1, 'No':0})\n",
    "df_churndata['StreamingMovies']  = df_churndata['StreamingMovies'].map({'Yes': 1, 'No':0})"
   ]
  },
  {
   "cell_type": "code",
   "execution_count": null,
   "metadata": {},
   "outputs": [],
   "source": [
    "listblankindices = df_churndata[(df_churndata['TotalCharges'] == ' ')].index\n",
    "listblankindices\n",
    "df_churndata.drop(listblankindices, inplace=True)"
   ]
  },
  {
   "cell_type": "code",
   "execution_count": null,
   "metadata": {},
   "outputs": [],
   "source": [
    "df_churndata.head()"
   ]
  },
  {
   "cell_type": "code",
   "execution_count": null,
   "metadata": {},
   "outputs": [],
   "source": [
    "df_churndata.reset_index(drop=True, inplace=True)"
   ]
  }
 ],
 "metadata": {
  "kernelspec": {
   "display_name": "Python [conda env:learn-env] *",
   "language": "python",
   "name": "conda-env-learn-env-py"
  },
  "language_info": {
   "codemirror_mode": {
    "name": "ipython",
    "version": 3
   },
   "file_extension": ".py",
   "mimetype": "text/x-python",
   "name": "python",
   "nbconvert_exporter": "python",
   "pygments_lexer": "ipython3",
   "version": "3.6.9"
  }
 },
 "nbformat": 4,
 "nbformat_minor": 2
}
